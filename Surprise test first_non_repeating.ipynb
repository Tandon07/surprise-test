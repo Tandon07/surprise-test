{
 "cells": [
  {
   "cell_type": "code",
   "execution_count": 61,
   "id": "db111a2d",
   "metadata": {},
   "outputs": [
    {
     "name": "stdout",
     "output_type": "stream",
     "text": [
      "-1\n"
     ]
    }
   ],
   "source": [
    "def first_non_repeating(num):\n",
    "    dict={}\n",
    "    c=0\n",
    "    for i in num:\n",
    "        dict[i]=dict.get(i,0)+1\n",
    "\n",
    "    for j in dict:\n",
    "        if dict[j]==1:\n",
    "            c=c+1\n",
    "            return num.index(j)\n",
    "    if c==0:\n",
    "        return -1\n",
    "print(first_non_repeating(\"aabb\"))           "
   ]
  },
  {
   "cell_type": "code",
   "execution_count": null,
   "id": "8d5048a0",
   "metadata": {},
   "outputs": [],
   "source": []
  }
 ],
 "metadata": {
  "kernelspec": {
   "display_name": "Python 3 (ipykernel)",
   "language": "python",
   "name": "python3"
  },
  "language_info": {
   "codemirror_mode": {
    "name": "ipython",
    "version": 3
   },
   "file_extension": ".py",
   "mimetype": "text/x-python",
   "name": "python",
   "nbconvert_exporter": "python",
   "pygments_lexer": "ipython3",
   "version": "3.9.12"
  }
 },
 "nbformat": 4,
 "nbformat_minor": 5
}
